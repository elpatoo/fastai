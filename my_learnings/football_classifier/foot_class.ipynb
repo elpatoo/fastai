{
 "cells": [
  {
   "cell_type": "code",
   "execution_count": 20,
   "id": "fe7f46a1-8be2-4ca2-876a-2ceb46b794de",
   "metadata": {},
   "outputs": [],
   "source": [
    "from fastai.vision.all import *\n",
    "from fastai.vision.widgets import *"
   ]
  },
  {
   "cell_type": "code",
   "execution_count": 21,
   "id": "b31963f2-32fc-4bc6-923d-218d003381b8",
   "metadata": {},
   "outputs": [],
   "source": [
    "path = Path()\n",
    "learn_inf = load_learner(path/'export.pkl', cpu=True)"
   ]
  },
  {
   "cell_type": "code",
   "execution_count": 82,
   "id": "bacf852c-16e1-4c28-9132-31ca3ba7e10e",
   "metadata": {},
   "outputs": [
    {
     "data": {
      "application/vnd.jupyter.widget-view+json": {
       "model_id": "32c07ce9ca4f4494ac2654673399f5ca",
       "version_major": 2,
       "version_minor": 0
      },
      "text/plain": [
       "FileUpload(value=(), description='Upload')"
      ]
     },
     "execution_count": 82,
     "metadata": {},
     "output_type": "execute_result"
    }
   ],
   "source": [
    "btn_upload = widgets.FileUpload()\n",
    "btn_upload"
   ]
  },
  {
   "cell_type": "code",
   "execution_count": 83,
   "id": "5ce6ac7e-2009-4d85-a5ee-fc5af554e4e7",
   "metadata": {},
   "outputs": [],
   "source": [
    "btn_upload = btn_upload.value[-1]"
   ]
  },
  {
   "cell_type": "code",
   "execution_count": 84,
   "id": "b07480d5-4a9a-4d24-8eda-7d0a7901100e",
   "metadata": {},
   "outputs": [
    {
     "name": "stdout",
     "output_type": "stream",
     "text": [
      "File \"bleem.jpg\" saved in the current directory.\n"
     ]
    }
   ],
   "source": [
    "file_name = btn_upload['name']\n",
    "file_content = btn_upload['content']\n",
    "        \n",
    "with open(file_name, 'wb') as f:\n",
    "    f.write(file_content)\n",
    "        \n",
    "print(f'File \"{file_name}\" saved in the current directory.')"
   ]
  },
  {
   "cell_type": "code",
   "execution_count": 85,
   "id": "e540fc1b-6799-40a8-a596-7b570516bad1",
   "metadata": {},
   "outputs": [],
   "source": [
    "btn_upload = btn_upload['name']\n",
    "btn_upload = SimpleNamespace(data= [btn_upload])"
   ]
  },
  {
   "cell_type": "code",
   "execution_count": 86,
   "id": "ca0b1b70-63aa-450d-9e3b-b3dfd6d19a33",
   "metadata": {},
   "outputs": [],
   "source": [
    "img = PILImage.create(btn_upload.data[-1])"
   ]
  },
  {
   "cell_type": "code",
   "execution_count": 87,
   "id": "238d1958-2013-4999-b394-04b0be1bd76a",
   "metadata": {},
   "outputs": [
    {
     "data": {
      "text/html": [
       "\n",
       "<style>\n",
       "    /* Turns off some styling */\n",
       "    progress {\n",
       "        /* gets rid of default border in Firefox and Opera. */\n",
       "        border: none;\n",
       "        /* Needs to be in here for Safari polyfill so background images work as expected. */\n",
       "        background-size: auto;\n",
       "    }\n",
       "    progress:not([value]), progress:not([value])::-webkit-progress-bar {\n",
       "        background: repeating-linear-gradient(45deg, #7e7e7e, #7e7e7e 10px, #5c5c5c 10px, #5c5c5c 20px);\n",
       "    }\n",
       "    .progress-bar-interrupted, .progress-bar-interrupted::-webkit-progress-bar {\n",
       "        background: #F44336;\n",
       "    }\n",
       "</style>\n"
      ],
      "text/plain": [
       "<IPython.core.display.HTML object>"
      ]
     },
     "metadata": {},
     "output_type": "display_data"
    },
    {
     "data": {
      "text/html": [],
      "text/plain": [
       "<IPython.core.display.HTML object>"
      ]
     },
     "metadata": {},
     "output_type": "display_data"
    }
   ],
   "source": [
    "pred,pred_idx,probs = learn_inf.predict(img)"
   ]
  },
  {
   "cell_type": "code",
   "execution_count": 88,
   "id": "121cd8f9-9b43-4180-90eb-05e360f59b84",
   "metadata": {},
   "outputs": [],
   "source": [
    "lbl_pred = widgets.Label()"
   ]
  },
  {
   "cell_type": "code",
   "execution_count": 89,
   "id": "c0203cad-e7a2-4cc2-97fe-3ced87df00b8",
   "metadata": {},
   "outputs": [],
   "source": [
    "out_pl = widgets.Output()\n",
    "out_pl.clear_output()\n",
    "with out_pl: display(img.to_thumb(128,128))\n",
    "lbl_pred.value = f'Prediction: {pred}; Probability: {probs[pred_idx]:.04f}'"
   ]
  },
  {
   "cell_type": "code",
   "execution_count": 90,
   "id": "b202e3dd-2af3-4a8e-8ca9-694edae3ff46",
   "metadata": {},
   "outputs": [],
   "source": [
    "btn_run = widgets.Button(description='Classify')"
   ]
  },
  {
   "cell_type": "code",
   "execution_count": 91,
   "id": "3d7f5762-695d-4e27-b3ae-7ac9c95d3f11",
   "metadata": {},
   "outputs": [],
   "source": [
    "def on_data_change(change):\n",
    "    btn_upload = btn_upload.value[-1]\n",
    "    file_name = btn_upload['name']\n",
    "    file_content = btn_upload['content']\n",
    "        \n",
    "    with open(file_name, 'wb') as f:\n",
    "        f.write(file_content)    \n",
    "    print(f'File \"{file_name}\" saved in the current directory.')\n",
    "\n",
    "    btn_upload = btn_upload['name']\n",
    "    btn_upload = SimpleNamespace(data= [btn_upload])    \n",
    "    \n",
    "    img = PILImage.create(btn_upload.data[-1])\n",
    "    out_pl = widgets.Output()\n",
    "    out_pl.clear_output()\n",
    "    with out_pl: display(img.to_thumb(128,128))\n",
    "    out_pl\n",
    "    pred,pred_idx,probs = learn_inf.predict(img)\n",
    "    lbl_pred.value = f'Prediction: {pred}; Probability: {probs[pred_idx]:.04f}'\n",
    "\n",
    "#btn_upload.observe(on_data_change, names=['data'])"
   ]
  },
  {
   "cell_type": "code",
   "execution_count": 92,
   "id": "a1b1261e-29e3-4918-85d7-098da26ca1f9",
   "metadata": {},
   "outputs": [],
   "source": [
    "btn_upload = widgets.FileUpload()"
   ]
  },
  {
   "cell_type": "code",
   "execution_count": 93,
   "id": "c7e3fe0f-136b-4a22-9cf5-7601d8cd0ffb",
   "metadata": {},
   "outputs": [
    {
     "data": {
      "application/vnd.jupyter.widget-view+json": {
       "model_id": "bd1333353cfe41cb9510a717a1da52ef",
       "version_major": 2,
       "version_minor": 0
      },
      "text/plain": [
       "VBox(children=(Label(value='Select your image!'), FileUpload(value=(), description='Upload'), Button(descripti…"
      ]
     },
     "execution_count": 93,
     "metadata": {},
     "output_type": "execute_result"
    }
   ],
   "source": [
    "VBox([widgets.Label('Select your image!'), \n",
    "      btn_upload, btn_run, out_pl, lbl_pred])"
   ]
  },
  {
   "cell_type": "code",
   "execution_count": null,
   "id": "2963a0c8-6dda-4c74-959c-6f3e351e6c6c",
   "metadata": {},
   "outputs": [],
   "source": []
  },
  {
   "cell_type": "code",
   "execution_count": null,
   "id": "217d6512-8ad6-4f44-8ad3-4fb6edb66912",
   "metadata": {},
   "outputs": [],
   "source": []
  }
 ],
 "metadata": {
  "kernelspec": {
   "display_name": "Python 3 (ipykernel)",
   "language": "python",
   "name": "python3"
  },
  "language_info": {
   "codemirror_mode": {
    "name": "ipython",
    "version": 3
   },
   "file_extension": ".py",
   "mimetype": "text/x-python",
   "name": "python",
   "nbconvert_exporter": "python",
   "pygments_lexer": "ipython3",
   "version": "3.10.12"
  }
 },
 "nbformat": 4,
 "nbformat_minor": 5
}
