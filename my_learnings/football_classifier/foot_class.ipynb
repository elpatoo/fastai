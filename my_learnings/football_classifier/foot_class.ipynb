{
 "cells": [
  {
   "cell_type": "code",
   "execution_count": 1,
   "id": "fe7f46a1-8be2-4ca2-876a-2ceb46b794de",
   "metadata": {},
   "outputs": [],
   "source": [
    "from fastai.vision.all import *\n",
    "from fastai.vision.widgets import *"
   ]
  },
  {
   "cell_type": "code",
   "execution_count": 2,
   "id": "b31963f2-32fc-4bc6-923d-218d003381b8",
   "metadata": {},
   "outputs": [],
   "source": [
    "path = Path()\n",
    "learn_inf = load_learner(path/'export.pkl', cpu=True)"
   ]
  },
  {
   "cell_type": "code",
   "execution_count": 3,
   "id": "bacf852c-16e1-4c28-9132-31ca3ba7e10e",
   "metadata": {},
   "outputs": [
    {
     "data": {
      "application/vnd.jupyter.widget-view+json": {
       "model_id": "4c77f2b7146f4918983b80bbcf8719ba",
       "version_major": 2,
       "version_minor": 0
      },
      "text/plain": [
       "FileUpload(value=(), description='Upload')"
      ]
     },
     "execution_count": 3,
     "metadata": {},
     "output_type": "execute_result"
    }
   ],
   "source": [
    "btn_upload = widgets.FileUpload()\n",
    "btn_upload"
   ]
  },
  {
   "cell_type": "code",
   "execution_count": 4,
   "id": "5ce6ac7e-2009-4d85-a5ee-fc5af554e4e7",
   "metadata": {},
   "outputs": [],
   "source": [
    "btn_upload = btn_upload.value[-1]"
   ]
  },
  {
   "cell_type": "code",
   "execution_count": 5,
   "id": "b07480d5-4a9a-4d24-8eda-7d0a7901100e",
   "metadata": {},
   "outputs": [
    {
     "name": "stdout",
     "output_type": "stream",
     "text": [
      "File \"camelonaldo.jpeg\" saved in the current directory.\n"
     ]
    }
   ],
   "source": [
    "file_name = btn_upload['name']\n",
    "file_content = btn_upload['content']\n",
    "        \n",
    "with open(file_name, 'wb') as f:\n",
    "    f.write(file_content)\n",
    "        \n",
    "print(f'File \"{file_name}\" saved in the current directory.')"
   ]
  },
  {
   "cell_type": "code",
   "execution_count": 6,
   "id": "e540fc1b-6799-40a8-a596-7b570516bad1",
   "metadata": {},
   "outputs": [],
   "source": [
    "btn_upload = btn_upload['name']\n",
    "btn_upload = SimpleNamespace(data= [btn_upload])"
   ]
  },
  {
   "cell_type": "code",
   "execution_count": 7,
   "id": "ca0b1b70-63aa-450d-9e3b-b3dfd6d19a33",
   "metadata": {},
   "outputs": [],
   "source": [
    "img = PILImage.create(btn_upload.data[-1])"
   ]
  },
  {
   "cell_type": "code",
   "execution_count": 8,
   "id": "c0203cad-e7a2-4cc2-97fe-3ced87df00b8",
   "metadata": {},
   "outputs": [],
   "source": [
    "out_pl = widgets.Output()\n",
    "out_pl.clear_output()\n",
    "with out_pl: display(img.to_thumb(128,128))"
   ]
  },
  {
   "cell_type": "code",
   "execution_count": 9,
   "id": "238d1958-2013-4999-b394-04b0be1bd76a",
   "metadata": {},
   "outputs": [
    {
     "name": "stderr",
     "output_type": "stream",
     "text": [
      "/root/mambaforge/lib/python3.10/site-packages/fastai/torch_core.py:263: UserWarning: 'has_mps' is deprecated, please use 'torch.backends.mps.is_built()'\n",
      "  return getattr(torch, 'has_mps', False)\n"
     ]
    },
    {
     "data": {
      "text/html": [
       "\n",
       "<style>\n",
       "    /* Turns off some styling */\n",
       "    progress {\n",
       "        /* gets rid of default border in Firefox and Opera. */\n",
       "        border: none;\n",
       "        /* Needs to be in here for Safari polyfill so background images work as expected. */\n",
       "        background-size: auto;\n",
       "    }\n",
       "    progress:not([value]), progress:not([value])::-webkit-progress-bar {\n",
       "        background: repeating-linear-gradient(45deg, #7e7e7e, #7e7e7e 10px, #5c5c5c 10px, #5c5c5c 20px);\n",
       "    }\n",
       "    .progress-bar-interrupted, .progress-bar-interrupted::-webkit-progress-bar {\n",
       "        background: #F44336;\n",
       "    }\n",
       "</style>\n"
      ],
      "text/plain": [
       "<IPython.core.display.HTML object>"
      ]
     },
     "metadata": {},
     "output_type": "display_data"
    },
    {
     "data": {
      "text/html": [],
      "text/plain": [
       "<IPython.core.display.HTML object>"
      ]
     },
     "metadata": {},
     "output_type": "display_data"
    }
   ],
   "source": [
    "pred,pred_idx,probs = learn_inf.predict(img)"
   ]
  },
  {
   "cell_type": "code",
   "execution_count": 10,
   "id": "121cd8f9-9b43-4180-90eb-05e360f59b84",
   "metadata": {},
   "outputs": [],
   "source": [
    "lbl_pred = widgets.Label()\n",
    "lbl_pred.value = f'Prediction: {pred}; Probability: {probs[pred_idx]:.04f}'"
   ]
  },
  {
   "cell_type": "code",
   "execution_count": 15,
   "id": "b202e3dd-2af3-4a8e-8ca9-694edae3ff46",
   "metadata": {},
   "outputs": [],
   "source": [
    "btn_run = widgets.Button(description='Classify')"
   ]
  },
  {
   "cell_type": "code",
   "execution_count": 16,
   "id": "3d7f5762-695d-4e27-b3ae-7ac9c95d3f11",
   "metadata": {},
   "outputs": [],
   "source": [
    "def on_data_change(change):\n",
    "    btn_upload = btn_upload.value[-1]\n",
    "    file_name = btn_upload['name']\n",
    "    file_content = btn_upload['content']\n",
    "        \n",
    "    with open(file_name, 'wb') as f:\n",
    "        f.write(file_content)    \n",
    "    print(f'File \"{file_name}\" saved in the current directory.')\n",
    "\n",
    "    btn_upload = btn_upload['name']\n",
    "    btn_upload = SimpleNamespace(data= [btn_upload])    \n",
    "    \n",
    "    img = PILImage.create(btn_upload.data[-1])\n",
    "    out_pl = widgets.Output()\n",
    "    out_pl.clear_output()\n",
    "    with out_pl: display(img.to_thumb(128,128))\n",
    "    out_pl\n",
    "    pred,pred_idx,probs = learn_inf.predict(img)\n",
    "    lbl_pred.value = f'Prediction: {pred}; Probability: {probs[pred_idx]:.04f}'\n",
    "\n",
    "btn_upload.observe(on_data_change, names=['data'])"
   ]
  },
  {
   "cell_type": "code",
   "execution_count": 17,
   "id": "a1b1261e-29e3-4918-85d7-098da26ca1f9",
   "metadata": {},
   "outputs": [],
   "source": [
    "btn_upload = widgets.FileUpload()"
   ]
  },
  {
   "cell_type": "code",
   "execution_count": 18,
   "id": "c7e3fe0f-136b-4a22-9cf5-7601d8cd0ffb",
   "metadata": {},
   "outputs": [
    {
     "data": {
      "application/vnd.jupyter.widget-view+json": {
       "model_id": "f01381b6a3dc411f91e5462546005e57",
       "version_major": 2,
       "version_minor": 0
      },
      "text/plain": [
       "VBox(children=(Label(value='Select your bear!'), FileUpload(value=(), description='Upload'), Button(descriptio…"
      ]
     },
     "execution_count": 18,
     "metadata": {},
     "output_type": "execute_result"
    }
   ],
   "source": [
    "VBox([widgets.Label('Select your bear!'), \n",
    "      btn_upload, btn_run, out_pl, lbl_pred])"
   ]
  },
  {
   "cell_type": "code",
   "execution_count": null,
   "id": "2963a0c8-6dda-4c74-959c-6f3e351e6c6c",
   "metadata": {},
   "outputs": [],
   "source": []
  }
 ],
 "metadata": {
  "kernelspec": {
   "display_name": "Python 3 (ipykernel)",
   "language": "python",
   "name": "python3"
  },
  "language_info": {
   "codemirror_mode": {
    "name": "ipython",
    "version": 3
   },
   "file_extension": ".py",
   "mimetype": "text/x-python",
   "name": "python",
   "nbconvert_exporter": "python",
   "pygments_lexer": "ipython3",
   "version": "3.10.12"
  }
 },
 "nbformat": 4,
 "nbformat_minor": 5
}
